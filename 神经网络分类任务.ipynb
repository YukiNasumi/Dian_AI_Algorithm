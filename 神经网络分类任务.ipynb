{
 "cells": [
  {
   "cell_type": "markdown",
   "metadata": {},
   "source": [
    "### Mnist分类任务：\n",
    "\n",
    "- 网络基本构建与训练方法，常用函数解析\n",
    "\n",
    "- torch.nn.functional模块\n",
    "\n",
    "- nn.Module模块\n"
   ]
  },
  {
   "cell_type": "markdown",
   "metadata": {},
   "source": [
    "### 读取Mnist数据集\n",
    "- 会自动进行下载"
   ]
  },
  {
   "cell_type": "code",
   "execution_count": 5,
   "metadata": {},
   "outputs": [],
   "source": [
    "%matplotlib inline"
   ]
  },
  {
   "cell_type": "code",
   "execution_count": 6,
   "metadata": {},
   "outputs": [],
   "source": [
    "from pathlib import Path\n",
    "import requests\n",
    "\n",
    "DATA_PATH = Path(\"data\")\n",
    "PATH = DATA_PATH / \"mnist\"\n",
    "\n",
    "PATH.mkdir(parents=True, exist_ok=True)\n",
    "\n",
    "URL = \"http://deeplearning.net/data/mnist/\"\n",
    "FILENAME = \"mnist.pkl.gz\"\n",
    "\n",
    "if not (PATH / FILENAME).exists():\n",
    "        content = requests.get(URL + FILENAME).content\n",
    "        (PATH / FILENAME).open(\"wb\").write(content)"
   ]
  },
  {
   "cell_type": "code",
   "execution_count": 7,
   "metadata": {},
   "outputs": [],
   "source": [
    "import pickle\n",
    "import gzip\n",
    "\n",
    "with gzip.open((PATH / FILENAME).as_posix(), \"rb\") as f:\n",
    "        ((x_train, y_train), (x_valid, y_valid), _) = pickle.load(f, encoding=\"latin-1\")"
   ]
  },
  {
   "cell_type": "markdown",
   "metadata": {},
   "source": [
    "784是mnist数据集每个样本的像素点个数"
   ]
  },
  {
   "cell_type": "code",
   "execution_count": 8,
   "metadata": {},
   "outputs": [
    {
     "name": "stdout",
     "output_type": "stream",
     "text": [
      "(50000, 784)\n"
     ]
    },
    {
     "data": {
      "image/png": "[encoded data removed]",
      "text/plain": [
       "<Figure size 640x480 with 1 Axes>"
      ]
     },
     "metadata": {},
     "output_type": "display_data"
    }
   ],
   "source": [
    "from matplotlib import pyplot\n",
    "import numpy as np\n",
    "\n",
    "pyplot.imshow(x_train[0].reshape((28, 28)), cmap=\"gray\")\n",
    "print(x_train.shape)"
   ]
  },
  {
   "cell_type": "markdown",
   "metadata": {},
   "source": [
    "<img src=\"./img/4.png\" alt=\"FAO\" width=\"790\">"
   ]
  },
  {
   "cell_type": "markdown",
   "metadata": {},
   "source": [
    "<img src=\"./img/5.png\" alt=\"FAO\" width=\"790\">"
   ]
  },
  {
   "cell_type": "markdown",
   "metadata": {},
   "source": [
    "注意数据需转换成tensor才能参与后续建模训练\n"
   ]
  },
  {
   "cell_type": "code",
   "execution_count": 9,
   "metadata": {},
   "outputs": [
    {
     "name": "stdout",
     "output_type": "stream",
     "text": [
      "tensor([[0., 0., 0.,  ..., 0., 0., 0.],\n",
      "        [0., 0., 0.,  ..., 0., 0., 0.],\n",
      "        [0., 0., 0.,  ..., 0., 0., 0.],\n",
      "        ...,\n",
      "        [0., 0., 0.,  ..., 0., 0., 0.],\n",
      "        [0., 0., 0.,  ..., 0., 0., 0.],\n",
      "        [0., 0., 0.,  ..., 0., 0., 0.]]) tensor([5, 0, 4,  ..., 8, 4, 8])\n",
      "torch.Size([50000, 784])\n",
      "tensor(0) tensor(9)\n"
     ]
    }
   ],
   "source": [
    "import torch\n",
    "\n",
    "x_train, y_train, x_valid, y_valid = map(\n",
    "    torch.tensor, (x_train, y_train, x_valid, y_valid)\n",
    ")\n",
    "n, c = x_train.shape\n",
    "x_train, x_train.shape, y_train.min(), y_train.max()\n",
    "print(x_train, y_train)\n",
    "print(x_train.shape)\n",
    "print(y_train.min(), y_train.max())"
   ]
  },
  {
   "cell_type": "markdown",
   "metadata": {},
   "source": [
    "### torch.nn.functional 很多层和函数在这里都会见到\n",
    "\n",
    "torch.nn.functional中有很多功能，后续会常用的。那什么时候使用nn.Module，什么时候使用nn.functional呢？一般情况下，如果模型有可学习的参数，最好用nn.Module，其他情况nn.functional相对更简单一些"
   ]
  },
  {
   "cell_type": "code",
   "execution_count": 1,
   "metadata": {},
   "outputs": [],
   "source": [
    "import torch.nn.functional as F\n",
    "\n",
    "loss_func = F.cross_entropy\n",
    "\n",
    "def model(xb):\n",
    "    # 矩阵乘法操作\n",
    "    return xb.mm(weights) + bias"
   ]
  },
  {
   "cell_type": "code",
   "execution_count": 11,
   "metadata": {},
   "outputs": [
    {
     "name": "stdout",
     "output_type": "stream",
     "text": [
      "tensor(16.4980, grad_fn=<NllLossBackward0>)\n"
     ]
    }
   ],
   "source": [
    "bs = 64\n",
    "xb = x_train[0:bs]  # a mini-batch from x\n",
    "yb = y_train[0:bs]\n",
    "weights = torch.randn([784, 10], dtype = torch.float,  requires_grad = True) \n",
    "bs = 64\n",
    "bias = torch.zeros(10, requires_grad=True)\n",
    "\n",
    "print(loss_func(model(xb), yb))"
   ]
  },
  {
   "cell_type": "markdown",
   "metadata": {},
   "source": [
    "### 创建一个model来更简化代码"
   ]
  },
  {
   "cell_type": "markdown",
   "metadata": {},
   "source": [
    "- 必须继承nn.Module且在其构造函数中需调用nn.Module的构造函数\n",
    "- 无需写反向传播函数，nn.Module能够利用autograd自动实现反向传播\n",
    "- Module中的可学习参数可以通过named_parameters()或者parameters()返回迭代器"
   ]
  },
  {
   "cell_type": "code",
   "execution_count": 12,
   "metadata": {},
   "outputs": [],
   "source": [
    "from torch import nn\n",
    "\n",
    "class Mnist_NN(nn.Module):\n",
    "    def __init__(self):\n",
    "        super().__init__()\n",
    "        self.hidden1 = nn.Linear(784, 128)\n",
    "        self.hidden2 = nn.Linear(128, 256)\n",
    "        self.out  = nn.Linear(256, 10)\n",
    "\n",
    "    def forward(self, x):\n",
    "        x = F.relu(self.hidden1(x))\n",
    "        x = F.relu(self.hidden2(x))\n",
    "        x = self.out(x)\n",
    "        return x\n",
    "        "
   ]
  },
  {
   "cell_type": "code",
   "execution_count": 13,
   "metadata": {},
   "outputs": [
    {
     "name": "stdout",
     "output_type": "stream",
     "text": [
      "Mnist_NN(\n",
      "  (hidden1): Linear(in_features=784, out_features=128, bias=True)\n",
      "  (hidden2): Linear(in_features=128, out_features=256, bias=True)\n",
      "  (out): Linear(in_features=256, out_features=10, bias=True)\n",
      ")\n"
     ]
    }
   ],
   "source": [
    "net = Mnist_NN()\n",
    "print(net)\n"
   ]
  },
  {
   "cell_type": "markdown",
   "metadata": {},
   "source": [
    "可以打印我们定义好名字里的权重和偏置项"
   ]
  },
  {
   "cell_type": "code",
   "execution_count": 14,
   "metadata": {},
   "outputs": [
    {
     "name": "stdout",
     "output_type": "stream",
     "text": [
      "hidden1.weight Parameter containing:\n",
      "tensor([[-0.0065,  0.0278, -0.0168,  ...,  0.0197,  0.0035, -0.0200],\n",
      "        [-0.0160,  0.0164, -0.0306,  ...,  0.0108, -0.0088, -0.0196],\n",
      "        [ 0.0011,  0.0212,  0.0244,  ..., -0.0233, -0.0223, -0.0090],\n",
      "        ...,\n",
      "        [ 0.0304, -0.0266, -0.0290,  ...,  0.0288,  0.0044,  0.0127],\n",
      "        [ 0.0210, -0.0273,  0.0006,  ..., -0.0082,  0.0181,  0.0023],\n",
      "        [ 0.0164, -0.0036, -0.0233,  ...,  0.0019,  0.0084,  0.0236]],\n",
      "       requires_grad=True) torch.Size([128, 784])\n",
      "hidden1.bias Parameter containing:\n",
      "tensor([-0.0301, -0.0145,  0.0294, -0.0288, -0.0084, -0.0143, -0.0268, -0.0267,\n",
      "         0.0198, -0.0138, -0.0279, -0.0025, -0.0259,  0.0247,  0.0212,  0.0182,\n",
      "        -0.0102,  0.0095, -0.0272,  0.0104,  0.0046, -0.0267,  0.0349, -0.0357,\n",
      "         0.0264,  0.0309, -0.0286, -0.0108,  0.0082,  0.0356,  0.0125, -0.0115,\n",
      "        -0.0157, -0.0221,  0.0286,  0.0020, -0.0275, -0.0152, -0.0118,  0.0335,\n",
      "         0.0194, -0.0153,  0.0190, -0.0007,  0.0071,  0.0258,  0.0289,  0.0136,\n",
      "         0.0104,  0.0024, -0.0253,  0.0218,  0.0107, -0.0073, -0.0188, -0.0107,\n",
      "        -0.0212,  0.0154, -0.0326,  0.0092,  0.0328,  0.0230,  0.0156, -0.0036,\n",
      "         0.0354, -0.0340, -0.0345, -0.0143, -0.0264,  0.0215, -0.0167, -0.0303,\n",
      "         0.0317, -0.0090,  0.0290, -0.0008,  0.0343, -0.0100, -0.0048, -0.0310,\n",
      "        -0.0315,  0.0280, -0.0120, -0.0262,  0.0253, -0.0080, -0.0037, -0.0310,\n",
      "         0.0151, -0.0326,  0.0219, -0.0296, -0.0053, -0.0010,  0.0024, -0.0040,\n",
      "         0.0243,  0.0234, -0.0137,  0.0079,  0.0221,  0.0324,  0.0147, -0.0257,\n",
      "        -0.0271,  0.0294,  0.0045, -0.0235,  0.0280,  0.0308,  0.0352,  0.0111,\n",
      "         0.0026, -0.0180,  0.0243,  0.0292, -0.0168,  0.0288,  0.0235,  0.0245,\n",
      "         0.0296,  0.0104,  0.0151, -0.0278, -0.0271,  0.0325, -0.0031,  0.0116],\n",
      "       requires_grad=True) torch.Size([128])\n",
      "hidden2.weight Parameter containing:\n",
      "tensor([[ 0.0235,  0.0261, -0.0371,  ...,  0.0003, -0.0486, -0.0858],\n",
      "        [-0.0753, -0.0815,  0.0550,  ..., -0.0468, -0.0173, -0.0645],\n",
      "        [ 0.0089,  0.0416, -0.0529,  ..., -0.0024,  0.0152,  0.0150],\n",
      "        ...,\n",
      "        [ 0.0222,  0.0552,  0.0654,  ...,  0.0684, -0.0809, -0.0692],\n",
      "        [-0.0682, -0.0190,  0.0088,  ...,  0.0540,  0.0381,  0.0262],\n",
      "        [-0.0059,  0.0183, -0.0130,  ..., -0.0568, -0.0441, -0.0419]],\n",
      "       requires_grad=True) torch.Size([256, 128])\n",
      "hidden2.bias Parameter containing:\n",
      "tensor([-0.0845,  0.0850, -0.0330,  0.0340,  0.0867, -0.0704,  0.0405, -0.0394,\n",
      "         0.0424, -0.0570,  0.0773, -0.0457, -0.0599,  0.0672, -0.0650,  0.0788,\n",
      "         0.0656, -0.0181,  0.0217,  0.0092,  0.0762,  0.0560,  0.0193, -0.0536,\n",
      "        -0.0098, -0.0761, -0.0538, -0.0792, -0.0795,  0.0566,  0.0318, -0.0585,\n",
      "        -0.0434,  0.0341, -0.0603, -0.0144,  0.0805,  0.0493,  0.0477, -0.0175,\n",
      "         0.0144,  0.0694, -0.0316, -0.0395, -0.0325,  0.0602, -0.0694,  0.0657,\n",
      "         0.0543,  0.0283, -0.0331,  0.0488,  0.0146, -0.0394, -0.0452,  0.0763,\n",
      "        -0.0267,  0.0020,  0.0071, -0.0179, -0.0239, -0.0615, -0.0794,  0.0122,\n",
      "         0.0103, -0.0194, -0.0320,  0.0174, -0.0386, -0.0257,  0.0260, -0.0529,\n",
      "        -0.0636, -0.0633,  0.0150,  0.0458, -0.0696,  0.0825, -0.0829, -0.0586,\n",
      "         0.0233,  0.0332, -0.0002, -0.0362, -0.0484,  0.0413,  0.0708,  0.0325,\n",
      "         0.0332, -0.0185, -0.0332,  0.0002,  0.0021, -0.0748,  0.0836, -0.0157,\n",
      "         0.0394,  0.0785,  0.0285, -0.0546,  0.0214, -0.0817,  0.0291,  0.0521,\n",
      "        -0.0555, -0.0722, -0.0259, -0.0399, -0.0051, -0.0461,  0.0797, -0.0789,\n",
      "        -0.0253,  0.0316, -0.0079,  0.0344, -0.0524, -0.0797, -0.0762, -0.0634,\n",
      "         0.0684,  0.0010,  0.0089, -0.0552, -0.0133,  0.0828,  0.0587, -0.0342,\n",
      "         0.0006,  0.0187, -0.0347,  0.0664, -0.0172,  0.0346, -0.0330, -0.0858,\n",
      "         0.0273,  0.0101, -0.0662,  0.0239,  0.0449, -0.0034,  0.0272, -0.0180,\n",
      "        -0.0401, -0.0106,  0.0803,  0.0096, -0.0566, -0.0475, -0.0700, -0.0494,\n",
      "         0.0793,  0.0176,  0.0747, -0.0284, -0.0254,  0.0389,  0.0727,  0.0208,\n",
      "         0.0794,  0.0179, -0.0347,  0.0133,  0.0067,  0.0870,  0.0033,  0.0267,\n",
      "         0.0400, -0.0065, -0.0271,  0.0702, -0.0386, -0.0632, -0.0487, -0.0586,\n",
      "        -0.0332, -0.0427,  0.0008, -0.0629, -0.0308,  0.0672,  0.0649,  0.0700,\n",
      "         0.0875,  0.0258, -0.0675,  0.0410, -0.0323,  0.0445,  0.0376, -0.0464,\n",
      "         0.0286, -0.0758,  0.0505,  0.0842,  0.0255,  0.0701, -0.0016, -0.0452,\n",
      "         0.0637, -0.0696,  0.0728,  0.0809, -0.0408,  0.0153,  0.0002,  0.0731,\n",
      "         0.0684,  0.0708,  0.0493,  0.0655, -0.0753, -0.0330,  0.0630,  0.0028,\n",
      "         0.0420,  0.0090, -0.0047, -0.0544,  0.0794,  0.0560, -0.0356, -0.0759,\n",
      "         0.0018, -0.0155,  0.0341,  0.0484,  0.0178,  0.0876, -0.0188, -0.0287,\n",
      "         0.0335, -0.0347, -0.0404, -0.0410,  0.0135, -0.0255,  0.0714, -0.0035,\n",
      "        -0.0168,  0.0774, -0.0823,  0.0111,  0.0470, -0.0576,  0.0545, -0.0610,\n",
      "         0.0200,  0.0221,  0.0397, -0.0382,  0.0849, -0.0208, -0.0756, -0.0784],\n",
      "       requires_grad=True) torch.Size([256])\n",
      "out.weight Parameter containing:\n",
      "tensor([[ 0.0566, -0.0353, -0.0168,  ...,  0.0293,  0.0481,  0.0395],\n",
      "        [ 0.0240, -0.0585, -0.0390,  ...,  0.0370, -0.0456,  0.0431],\n",
      "        [ 0.0355,  0.0370,  0.0192,  ..., -0.0427, -0.0455,  0.0449],\n",
      "        ...,\n",
      "        [-0.0600, -0.0334, -0.0036,  ...,  0.0031,  0.0079, -0.0269],\n",
      "        [ 0.0283, -0.0507,  0.0533,  ..., -0.0445, -0.0452,  0.0269],\n",
      "        [-0.0088,  0.0455, -0.0569,  ..., -0.0132,  0.0519,  0.0383]],\n",
      "       requires_grad=True) torch.Size([10, 256])\n",
      "out.bias Parameter containing:\n",
      "tensor([-0.0562,  0.0452, -0.0308, -0.0311, -0.0018, -0.0337, -0.0126,  0.0173,\n",
      "         0.0162, -0.0082], requires_grad=True) torch.Size([10])\n"
     ]
    }
   ],
   "source": [
    "for name, parameter in net.named_parameters():\n",
    "    print(name, parameter,parameter.size())"
   ]
  },
  {
   "cell_type": "markdown",
   "metadata": {},
   "source": [
    "### 使用TensorDataset和DataLoader来简化"
   ]
  },
  {
   "cell_type": "code",
   "execution_count": 58,
   "metadata": {
    "collapsed": true,
    "jupyter": {
     "outputs_hidden": true
    }
   },
   "outputs": [],
   "source": [
    "from torch.utils.data import TensorDataset\n",
    "from torch.utils.data import DataLoader\n",
    "\n",
    "train_ds = TensorDataset(x_train, y_train)\n",
    "train_dl = DataLoader(train_ds, batch_size=bs, shuffle=True)\n",
    "\n",
    "valid_ds = TensorDataset(x_valid, y_valid)\n",
    "valid_dl = DataLoader(valid_ds, batch_size=bs * 2)"
   ]
  },
  {
   "cell_type": "code",
   "execution_count": 59,
   "metadata": {
    "collapsed": true,
    "jupyter": {
     "outputs_hidden": true
    }
   },
   "outputs": [],
   "source": [
    "def get_data(train_ds, valid_ds, bs):\n",
    "    return (\n",
    "        DataLoader(train_ds, batch_size=bs, shuffle=True),\n",
    "        DataLoader(valid_ds, batch_size=bs * 2),\n",
    "    )"
   ]
  },
  {
   "cell_type": "markdown",
   "metadata": {},
   "source": [
    "- 一般在训练模型时加上model.train()，这样会正常使用Batch Normalization和 Dropout\n",
    "- 测试的时候一般选择model.eval()，这样就不会使用Batch Normalization和 Dropout"
   ]
  },
  {
   "cell_type": "code",
   "execution_count": 92,
   "metadata": {
    "collapsed": true,
    "jupyter": {
     "outputs_hidden": true
    }
   },
   "outputs": [],
   "source": [
    "import numpy as np\n",
    "\n",
    "def fit(steps, model, loss_func, opt, train_dl, valid_dl):\n",
    "    for step in range(steps):\n",
    "        model.train()\n",
    "        for xb, yb in train_dl:\n",
    "            loss_batch(model, loss_func, xb, yb, opt)\n",
    "\n",
    "        model.eval()\n",
    "        with torch.no_grad():\n",
    "            losses, nums = zip(\n",
    "                *[loss_batch(model, loss_func, xb, yb) for xb, yb in valid_dl]\n",
    "            )\n",
    "        val_loss = np.sum(np.multiply(losses, nums)) / np.sum(nums)\n",
    "        print('当前step:'+str(step), '验证集损失：'+str(val_loss))"
   ]
  },
  {
   "cell_type": "code",
   "execution_count": 93,
   "metadata": {
    "collapsed": true,
    "jupyter": {
     "outputs_hidden": true
    }
   },
   "outputs": [],
   "source": [
    "from torch import optim\n",
    "def get_model():\n",
    "    model = Mnist_NN()\n",
    "    return model, optim.SGD(model.parameters(), lr=0.001)"
   ]
  },
  {
   "cell_type": "code",
   "execution_count": 94,
   "metadata": {
    "collapsed": true,
    "jupyter": {
     "outputs_hidden": true
    }
   },
   "outputs": [],
   "source": [
    "def loss_batch(model, loss_func, xb, yb, opt=None):\n",
    "    loss = loss_func(model(xb), yb)\n",
    "\n",
    "    if opt is not None:\n",
    "        loss.backward()\n",
    "        opt.step()\n",
    "        opt.zero_grad()\n",
    "\n",
    "    return loss.item(), len(xb)"
   ]
  },
  {
   "cell_type": "markdown",
   "metadata": {},
   "source": [
    "### 三行搞定！"
   ]
  },
  {
   "cell_type": "code",
   "execution_count": 95,
   "metadata": {},
   "outputs": [
    {
     "name": "stdout",
     "output_type": "stream",
     "text": [
      "当前step:0 验证集损失：2.2796445930480957\n",
      "当前step:1 验证集损失：2.2440698066711424\n",
      "当前step:2 验证集损失：2.1889826164245605\n",
      "当前step:3 验证集损失：2.0985311767578123\n",
      "当前step:4 验证集损失：1.9517273582458496\n",
      "当前step:5 验证集损失：1.7341805934906005\n",
      "当前step:6 验证集损失：1.4719875366210937\n",
      "当前step:7 验证集损失：1.2273896869659424\n",
      "当前step:8 验证集损失：1.0362271406173706\n",
      "当前step:9 验证集损失：0.8963696184158325\n",
      "当前step:10 验证集损失：0.7927186088562012\n",
      "当前step:11 验证集损失：0.7141492074012756\n",
      "当前step:12 验证集损失：0.6529350900650024\n",
      "当前step:13 验证集损失：0.60417300491333\n",
      "当前step:14 验证集损失：0.5643046331882476\n",
      "当前step:15 验证集损失：0.5317994566917419\n",
      "当前step:16 验证集损失：0.5047958114624024\n",
      "当前step:17 验证集损失：0.4813900615692139\n",
      "当前step:18 验证集损失：0.4618900228500366\n",
      "当前step:19 验证集损失：0.4443243554592133\n",
      "当前step:20 验证集损失：0.4297310716629028\n",
      "当前step:21 验证集损失：0.416976597738266\n",
      "当前step:22 验证集损失：0.406348459148407\n",
      "当前step:23 验证集损失：0.3963301926612854\n",
      "当前step:24 验证集损失：0.38733808159828187\n"
     ]
    }
   ],
   "source": [
    "train_dl, valid_dl = get_data(train_ds, valid_ds, bs)\n",
    "model, opt = get_model()\n",
    "fit(25, model, loss_func, opt, train_dl, valid_dl)"
   ]
  },
  {
   "cell_type": "code",
   "execution_count": null,
   "metadata": {
    "collapsed": true,
    "jupyter": {
     "outputs_hidden": true
    }
   },
   "outputs": [],
   "source": []
  }
 ],
 "metadata": {
  "kernelspec": {
   "display_name": "Python 3 (ipykernel)",
   "language": "python",
   "name": "python3"
  },
  "language_info": {
   "codemirror_mode": {
    "name": "ipython",
    "version": 3
   },
   "file_extension": ".py",
   "mimetype": "text/x-python",
   "name": "python",
   "nbconvert_exporter": "python",
   "pygments_lexer": "ipython3",
   "version": "3.10.13"
  }
 },
 "nbformat": 4,
 "nbformat_minor": 4
}
