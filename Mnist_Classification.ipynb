{
 "cells": [
  {
   "cell_type": "code",
   "execution_count": 3,
   "id": "38e8c6b5",
   "metadata": {},
   "outputs": [],
   "source": [
    "%matplotlib inline\n",
    "import torch\n",
    "import torchvision\n",
    "from torch.utils import data\n",
    "from torchvision import transforms\n",
    "from matplotlib import pyplot as plt"
   ]
  },
  {
   "cell_type": "code",
   "execution_count": 4,
   "id": "e38b81d0",
   "metadata": {},
   "outputs": [],
   "source": [
    "trans = transforms.ToTensor()"
   ]
  },
  {
   "cell_type": "code",
   "execution_count": 5,
   "id": "0dc3853d",
   "metadata": {},
   "outputs": [],
   "source": [
    "# 通过ToTensor实例将图像数据从PIL类型变换成32位浮点数格式，\n",
    "# 并除以255使得所有像素的数值均在0～1之间\n",
    "mnist_train = torchvision.datasets.MNIST(\n",
    "    root=\"../data\", train=True, transform=trans, download=True)\n",
    "mnist_test = torchvision.datasets.MNIST(\n",
    "    root=\"../data\", train=False, transform=trans, download=True)"
   ]
  },
  {
   "cell_type": "markdown",
   "id": "8feee17a",
   "metadata": {},
   "source": [
    "# 加载数据"
   ]
  },
  {
   "cell_type": "markdown",
   "id": "fe71a86c",
   "metadata": {},
   "source": [
    "# 初始化参数"
   ]
  },
  {
   "cell_type": "code",
   "execution_count": 7,
   "id": "4804918b",
   "metadata": {},
   "outputs": [],
   "source": [
    "num_inputs, num_outputs, num_hidden1, num_hidden2 = 784, 10, 128, 256\n",
    "from torch import nn\n",
    "\n",
    "W1 = nn.Parameter(torch.randn(\n",
    "    num_inputs, num_hidden1, requires_grad=True) * 0.01)\n",
    "b1 = nn.Parameter(torch.zeros(num_hidden1, requires_grad=True))\n",
    "W2 = nn.Parameter(torch.randn(\n",
    "    num_hidden1, num_hidden2, requires_grad=True) * 0.01)\n",
    "b2 = nn.Parameter(torch.zeros(num_hidden2, requires_grad=True))\n",
    "W3 = nn.Parameter(torch.randn(\n",
    "    num_hidden2,num_outputs,requires_grad=True)*0.01)\n",
    "b3 = nn.Parameter(torch.zeros(num_outputs,requires_grad=True))\n",
    "\n",
    "params = [W1, b1, W2, b2, W3, b3] "
   ]
  },
  {
   "cell_type": "markdown",
   "id": "9b35cceb",
   "metadata": {},
   "source": [
    "# 生成数据迭代器"
   ]
  },
  {
   "cell_type": "code",
   "execution_count": 8,
   "id": "a0096ff7",
   "metadata": {},
   "outputs": [],
   "source": [
    "batch_size = 256\n",
    "\n",
    "def get_dataloader_workers():  #@save\n",
    "    \"\"\"使用4个进程来读取数据\"\"\"\n",
    "    return 4\n",
    "\n",
    "train_iter = data.DataLoader(mnist_train, batch_size, shuffle=True,\n",
    "                             num_workers=get_dataloader_workers())\n",
    "test_iter = data.DataLoader(mnist_test, batch_size, shuffle=True,\n",
    "                            num_workers=4)"
   ]
  },
  {
   "cell_type": "markdown",
   "id": "76841457",
   "metadata": {},
   "source": [
    "# 处理最后的输出层所需的softmax函数"
   ]
  },
  {
   "cell_type": "code",
   "execution_count": 9,
   "id": "12760c1d",
   "metadata": {},
   "outputs": [],
   "source": [
    "def softmax(X):\n",
    "    X_exp = torch.exp(X)\n",
    "    partition = X_exp.sum(1, keepdim=True)\n",
    "    return X_exp / partition"
   ]
  },
  {
   "cell_type": "markdown",
   "id": "86102aec",
   "metadata": {},
   "source": [
    "# 定义一个有两个隐藏层的全连接网络"
   ]
  },
  {
   "cell_type": "code",
   "execution_count": 10,
   "id": "641d9adc",
   "metadata": {},
   "outputs": [],
   "source": [
    "def relu(X):\n",
    "    a = torch.zeros_like(X)\n",
    "    return torch.max(X, a)\n",
    "\n",
    "\n",
    "def net(X):\n",
    "    X = X.reshape((-1, num_inputs))\n",
    "    H1 = relu(X@W1 + b1)  # 这里“@”代表矩阵乘法\n",
    "    H2 = relu(H1@W2 + b2)\n",
    "    output = softmax(H2@W3 + b3)\n",
    "    return (output)"
   ]
  },
  {
   "cell_type": "markdown",
   "id": "3aa30e2c",
   "metadata": {},
   "source": [
    "# 定义交叉熵损失函数"
   ]
  },
  {
   "cell_type": "code",
   "execution_count": 11,
   "id": "78a542cf",
   "metadata": {},
   "outputs": [],
   "source": [
    "def cross_entropy(y_hat, y):\n",
    "    return - torch.log(y_hat[range(len(y_hat)), y])"
   ]
  },
  {
   "cell_type": "markdown",
   "id": "f38fc6b1",
   "metadata": {},
   "source": [
    "# 确定训练轮数和学习率，还有优化函数"
   ]
  },
  {
   "cell_type": "code",
   "execution_count": 12,
   "id": "ccc5855a",
   "metadata": {},
   "outputs": [],
   "source": [
    "num_epochs, lr = 10, 0.1\n",
    "updater = torch.optim.SGD(params, lr=lr)"
   ]
  },
  {
   "cell_type": "markdown",
   "id": "18cf1934",
   "metadata": {},
   "source": [
    "# 因为是对平均值求梯度，所以optimizer不用穿batch_size"
   ]
  },
  {
   "cell_type": "code",
   "execution_count": 13,
   "id": "b6b5225a",
   "metadata": {},
   "outputs": [],
   "source": [
    "def train(net, train_iter, loss, updater,num_epochs):\n",
    "    for i in range(num_epochs):\n",
    "        for X, y in train_iter:\n",
    "            # 计算梯度并更新参数\n",
    "            y_hat = net(X)\n",
    "            l = loss(y_hat, y)\n",
    "            updater.zero_grad()\n",
    "            l.mean().backward()\n",
    "            updater.step()"
   ]
  },
  {
   "cell_type": "markdown",
   "id": "cf37d64f",
   "metadata": {},
   "source": [
    "# 现在开始训练！"
   ]
  },
  {
   "cell_type": "code",
   "execution_count": 14,
   "id": "d597aebf",
   "metadata": {},
   "outputs": [],
   "source": [
    "train(net,train_iter,cross_entropy,updater,num_epochs)"
   ]
  },
  {
   "cell_type": "markdown",
   "id": "2f4200c9",
   "metadata": {},
   "source": [
    "# 下面定义一些计数函数，帮助我们确定TP,TN,FP,FN"
   ]
  },
  {
   "cell_type": "code",
   "execution_count": 15,
   "id": "c1cace48",
   "metadata": {},
   "outputs": [],
   "source": [
    "class Accumulator:  #@save\n",
    "    \"\"\"在n个变量上累加\"\"\"\n",
    "    def __init__(self, n):\n",
    "        self.data = [0.0] * n\n",
    "\n",
    "    def add(self, *args):\n",
    "        self.data = [a + float(b) for a, b in zip(self.data, args)]\n",
    "\n",
    "    def reset(self):\n",
    "        self.data = [0.0] * len(self.data)\n",
    "\n",
    "    def __getitem__(self, idx):\n",
    "        return self.data[idx]"
   ]
  },
  {
   "cell_type": "code",
   "execution_count": 16,
   "id": "a8da13a0",
   "metadata": {},
   "outputs": [],
   "source": [
    "def accuracy(y_hat, y):  #@save\n",
    "    \"\"\"计算预测正确的数量\"\"\"\n",
    "    if len(y_hat.shape) > 1 and y_hat.shape[1] > 1:\n",
    "        y_hat = y_hat.argmax(axis=1)\n",
    "    cmp = y_hat.type(y.dtype) == y\n",
    "    return float(cmp.type(y.dtype).sum())"
   ]
  },
  {
   "cell_type": "code",
   "execution_count": 17,
   "id": "51bdaeca",
   "metadata": {},
   "outputs": [],
   "source": [
    "def test(net,test_iter):\n",
    "    metric = Accumulator(4)\n",
    "    for X, y in test_iter:\n",
    "        with torch.no_grad():\n",
    "            y_hat = net(X)\n",
    "            tp = accuracy(y_hat, y)\n",
    "            fp = y.numel() - tp\n",
    "            tn = tp * 9\n",
    "            fn = fp\n",
    "            metric.add(tp, fp, tn, fn)\n",
    "    return metric[0], metric[1], metric[2], metric[3]"
   ]
  },
  {
   "cell_type": "code",
   "execution_count": 18,
   "id": "9b57960c",
   "metadata": {},
   "outputs": [],
   "source": [
    "TP, FP, TN, FN = test(net,test_iter)"
   ]
  },
  {
   "cell_type": "code",
   "execution_count": 19,
   "id": "4f6333e8",
   "metadata": {},
   "outputs": [],
   "source": [
    "accu = (TP + TN)/(TP + TN + FP + FN)"
   ]
  },
  {
   "cell_type": "code",
   "execution_count": 20,
   "id": "edbd9392",
   "metadata": {},
   "outputs": [
    {
     "data": {
      "text/plain": [
       "0.9900166389351082"
      ]
     },
     "execution_count": 20,
     "metadata": {},
     "output_type": "execute_result"
    }
   ],
   "source": [
    "accu"
   ]
  },
  {
   "cell_type": "code",
   "execution_count": 21,
   "id": "119ec870",
   "metadata": {},
   "outputs": [
    {
     "data": {
      "text/plain": [
       "0.952"
      ]
     },
     "execution_count": 21,
     "metadata": {},
     "output_type": "execute_result"
    }
   ],
   "source": [
    "precision = TP / (TP + FP)\n",
    "precision"
   ]
  },
  {
   "cell_type": "code",
   "execution_count": 22,
   "id": "bcbfe68a",
   "metadata": {},
   "outputs": [
    {
     "data": {
      "text/plain": [
       "0.952"
      ]
     },
     "execution_count": 22,
     "metadata": {},
     "output_type": "execute_result"
    }
   ],
   "source": [
    "Recall = TP / (TP + FN)\n",
    "Recall"
   ]
  },
  {
   "cell_type": "code",
   "execution_count": 23,
   "id": "dcfa6f96",
   "metadata": {},
   "outputs": [
    {
     "data": {
      "text/plain": [
       "0.952"
      ]
     },
     "execution_count": 23,
     "metadata": {},
     "output_type": "execute_result"
    }
   ],
   "source": [
    "F1 = 2 * (precision * Recall) / (precision + Recall)\n",
    "F1"
   ]
  },
  {
   "cell_type": "code",
   "execution_count": 30,
   "id": "74c66482",
   "metadata": {},
   "outputs": [],
   "source": [
    "def result(TP, FP, TN, FN):\n",
    "    accu = (TP + TN)/(TP + TN + FP + FN)\n",
    "    precision = TP / (TP + FP)\n",
    "    Recall = TP / (TP + FN)\n",
    "    F1 = 2 * (precision * Recall) / (precision + Recall)\n",
    "    return accu, precision, Recall, F1"
   ]
  },
  {
   "cell_type": "markdown",
   "id": "78a0d764",
   "metadata": {},
   "source": [
    "# 接下来我将应用nn库研究层数，神经元数，训练轮数的关系"
   ]
  },
  {
   "cell_type": "markdown",
   "id": "5d73a7b3",
   "metadata": {},
   "source": [
    "# 先定义四个层数不同的网络"
   ]
  },
  {
   "cell_type": "code",
   "execution_count": 31,
   "id": "5f978649",
   "metadata": {},
   "outputs": [
    {
     "data": {
      "text/plain": [
       "Sequential(\n",
       "  (0): Flatten(start_dim=1, end_dim=-1)\n",
       "  (1): Linear(in_features=784, out_features=64, bias=True)\n",
       "  (2): ReLU()\n",
       "  (3): Linear(in_features=64, out_features=64, bias=True)\n",
       "  (4): ReLU()\n",
       "  (5): Linear(in_features=64, out_features=64, bias=True)\n",
       "  (6): ReLU()\n",
       "  (7): Linear(in_features=64, out_features=10, bias=True)\n",
       "  (8): Softmax(dim=1)\n",
       ")"
      ]
     },
     "execution_count": 31,
     "metadata": {},
     "output_type": "execute_result"
    }
   ],
   "source": [
    "from torch import nn\n",
    "\n",
    "no_layer = nn.Sequential(nn.Flatten(),\n",
    "                         nn.Linear(784,10),\n",
    "                         nn.Softmax(dim=1)\n",
    "                        )\n",
    "\n",
    "single_layer = nn.Sequential(nn.Flatten(),\n",
    "                          nn.Linear(784,64),\n",
    "                          nn.ReLU(),\n",
    "                          nn.Linear(64,10),\n",
    "                          nn.Softmax(dim=1)\n",
    "                        )\n",
    "\n",
    "\n",
    "double_layer = nn.Sequential(nn.Flatten(),\n",
    "                          nn.Linear(784,64),\n",
    "                          nn.ReLU(),\n",
    "                          nn.Linear(64,64),\n",
    "                          nn.ReLU(),\n",
    "                          nn.Linear(64,10),\n",
    "                          nn.Softmax(dim=1)\n",
    "                        )\n",
    "\n",
    "triple_layer = nn.Sequential(nn.Flatten(),\n",
    "                          nn.Linear(784,64),\n",
    "                          nn.ReLU(),\n",
    "                          nn.Linear(64,64),\n",
    "                          nn.ReLU(),\n",
    "                          nn.Linear(64,64),\n",
    "                          nn.ReLU(),\n",
    "                          nn.Linear(64,10),\n",
    "                          nn.Softmax(dim=1)\n",
    "                        )\n",
    "\n",
    "\n",
    "def init_weights(m):\n",
    "    if type(m) == nn.Linear:\n",
    "        nn.init.normal_(m.weight, std=0.01)\n",
    "\n",
    "no_layer.apply(init_weights)\n",
    "single_layer.apply(init_weights)\n",
    "double_layer.apply(init_weights)\n",
    "triple_layer.apply(init_weights)"
   ]
  },
  {
   "cell_type": "code",
   "execution_count": 32,
   "id": "272f1df0",
   "metadata": {},
   "outputs": [],
   "source": [
    "batch_size, lr, num_epochs = 256, 0.1, 10\n",
    "for net,trainer in ((no_layer,torch.optim.SGD(no_layer.parameters(), lr=lr)),\n",
    "                (single_layer,torch.optim.SGD(single_layer.parameters(), lr=lr)),\n",
    "                (double_layer,torch.optim.SGD(double_layer.parameters(), lr=lr)),\n",
    "                (triple_layer,torch.optim.SGD(triple_layer.parameters(), lr=lr))\n",
    "                   ):\n",
    "    train(net,train_iter,cross_entropy,trainer,num_epochs)"
   ]
  },
  {
   "cell_type": "code",
   "execution_count": 33,
   "id": "7b2280ec",
   "metadata": {},
   "outputs": [],
   "source": [
    "import numpy as np\n",
    "a=[]\n",
    "for net in (no_layer,single_layer,double_layer,triple_layer):\n",
    "    tp, fp, tn, fn = test(net, test_iter)\n",
    "    note = result(tp, fp, tn, fn)\n",
    "    if net == no_layer:\n",
    "        a = np.array(note)\n",
    "    else:\n",
    "        a = np.vstack([a,note])\n",
    "\n",
    "a = a.transpose()"
   ]
  },
  {
   "cell_type": "code",
   "execution_count": 34,
   "id": "f4c6171c",
   "metadata": {},
   "outputs": [
    {
     "data": {
      "text/plain": [
       "<function matplotlib.pyplot.show(close=None, block=None)>"
      ]
     },
     "execution_count": 34,
     "metadata": {},
     "output_type": "execute_result"
    },
    {
     "data": {
      "image/png": "[encoded data removed]",
      "text/plain": [
       "<Figure size 640x480 with 1 Axes>"
      ]
     },
     "metadata": {},
     "output_type": "display_data"
    }
   ],
   "source": [
    "x=np.array(range(0,4))\n",
    "for i, name in enumerate(['Accuracy', 'Precision', 'Recall', 'F1']):\n",
    "    plt.plot(x, a[i], label = name)\n",
    "plt.xlabel('layer number')\n",
    "plt.legend()\n",
    "plt.show"
   ]
  },
  {
   "cell_type": "markdown",
   "id": "6e1e7d93",
   "metadata": {},
   "source": [
    "# 发现两层时准确率比较高"
   ]
  },
  {
   "cell_type": "markdown",
   "id": "3bd56c39",
   "metadata": {},
   "source": [
    "# 下面对单层网络的神经元与指标关系进行研究"
   ]
  },
  {
   "cell_type": "code",
   "execution_count": 35,
   "id": "4fac9bbb",
   "metadata": {},
   "outputs": [],
   "source": [
    "batch_size, lr, num_epochs = 256, 0.1, 10\n",
    "a = []\n",
    "for i in range(5,9):\n",
    "    num_neuron = 2**i\n",
    "\n",
    "    net = nn.Sequential(nn.Flatten(),\n",
    "                          nn.Linear(784, num_neuron),\n",
    "                          nn.ReLU(),\n",
    "                          nn.Linear(num_neuron,10),\n",
    "                          nn.Softmax(dim=1)\n",
    "                        )\n",
    "    net.apply(init_weights)\n",
    "    trainer = torch.optim.SGD(net.parameters(), lr=lr)\n",
    "    train(net,train_iter,cross_entropy,trainer,num_epochs)\n",
    "    tp, fp, tn, fn = test(net, test_iter)\n",
    "    note = result(tp, fp, tn, fn)\n",
    "    if i==5:\n",
    "        a=np.array(note)\n",
    "    else :\n",
    "        a = np.vstack([a,note])"
   ]
  },
  {
   "cell_type": "code",
   "execution_count": 36,
   "id": "641ae830",
   "metadata": {},
   "outputs": [],
   "source": [
    "a = a.transpose()"
   ]
  },
  {
   "cell_type": "code",
   "execution_count": 37,
   "id": "3efe2686",
   "metadata": {},
   "outputs": [
    {
     "data": {
      "text/plain": [
       "<function matplotlib.pyplot.show(close=None, block=None)>"
      ]
     },
     "execution_count": 37,
     "metadata": {},
     "output_type": "execute_result"
    },
    {
     "data": {
      "image/png": "[encoded data removed]",
      "text/plain": [
       "<Figure size 640x480 with 1 Axes>"
      ]
     },
     "metadata": {},
     "output_type": "display_data"
    }
   ],
   "source": [
    "x=np.array([2**i for i in range(5,9)])\n",
    "for i, name in enumerate(['Accuracy', 'Precision', 'Recall', 'F1']):\n",
    "    plt.plot(x, a[i], label = name)\n",
    "plt.xlabel('neuron number')\n",
    "plt.legend()\n",
    "plt.show"
   ]
  },
  {
   "cell_type": "markdown",
   "id": "f66fbe8d",
   "metadata": {},
   "source": [
    "# 分析图发现单层时神经元数量对准确率影响不大"
   ]
  },
  {
   "cell_type": "markdown",
   "id": "ae6353c5",
   "metadata": {},
   "source": [
    "# 下面研究双层图的指标与训练轮数的关系"
   ]
  },
  {
   "cell_type": "code",
   "execution_count": 38,
   "id": "8deddb4f",
   "metadata": {},
   "outputs": [
    {
     "data": {
      "text/plain": [
       "Sequential(\n",
       "  (0): Flatten(start_dim=1, end_dim=-1)\n",
       "  (1): Linear(in_features=784, out_features=64, bias=True)\n",
       "  (2): ReLU()\n",
       "  (3): Linear(in_features=64, out_features=64, bias=True)\n",
       "  (4): ReLU()\n",
       "  (5): Linear(in_features=64, out_features=10, bias=True)\n",
       "  (6): Softmax(dim=1)\n",
       ")"
      ]
     },
     "execution_count": 38,
     "metadata": {},
     "output_type": "execute_result"
    }
   ],
   "source": [
    "e = nn.Sequential(nn.Flatten(),\n",
    "                          nn.Linear(784,64),\n",
    "                          nn.ReLU(),\n",
    "                          nn.Linear(64,64),\n",
    "                          nn.ReLU(),\n",
    "                          nn.Linear(64,10),\n",
    "                          nn.Softmax(dim=1)\n",
    "                        )\n",
    "e.apply(init_weights)"
   ]
  },
  {
   "cell_type": "code",
   "execution_count": 39,
   "id": "a426cb79",
   "metadata": {},
   "outputs": [],
   "source": [
    "batch_size, lr, _ = 256, 0.1, 10\n",
    "trainer = torch.optim.SGD(e.parameters(), lr=lr)\n",
    "a = []\n",
    "for num_epoch in range(0,5):\n",
    "    train(e,train_iter,cross_entropy,trainer,num_epoch)\n",
    "    tp, fp, tn, fn = test(e, test_iter)\n",
    "    note = result(tp, fp, tn, fn)\n",
    "    if num_epoch == 0:\n",
    "        a=np.array(note)\n",
    "    else :\n",
    "        a=np.vstack([a, note])\n",
    "a=a.transpose()"
   ]
  },
  {
   "cell_type": "code",
   "execution_count": 40,
   "id": "7ee2e4bf",
   "metadata": {},
   "outputs": [
    {
     "data": {
      "text/plain": [
       "<function matplotlib.pyplot.show(close=None, block=None)>"
      ]
     },
     "execution_count": 40,
     "metadata": {},
     "output_type": "execute_result"
    },
    {
     "data": {
      "image/png": "[encoded data removed]",
      "text/plain": [
       "<Figure size 640x480 with 1 Axes>"
      ]
     },
     "metadata": {},
     "output_type": "display_data"
    }
   ],
   "source": [
    "x = range(0,5)\n",
    "for i, name in enumerate(['Accuracy', 'Precision', 'Recall', 'F1']):\n",
    "    plt.plot(x, a[i], label = name)\n",
    "plt.xlabel('epoch_num')\n",
    "plt.legend()\n",
    "plt.show"
   ]
  },
  {
   "cell_type": "markdown",
   "id": "d02f0ccd",
   "metadata": {},
   "source": [
    "# 两层时准确率随训练轮数增加而增加,训练两次时准确率很快增加。之后增速变慢"
   ]
  }
 ],
 "metadata": {
  "kernelspec": {
   "display_name": "Python [conda env:torch] *",
   "language": "python",
   "name": "conda-env-torch-py"
  },
  "language_info": {
   "codemirror_mode": {
    "name": "ipython",
    "version": 3
   },
   "file_extension": ".py",
   "mimetype": "text/x-python",
   "name": "python",
   "nbconvert_exporter": "python",
   "pygments_lexer": "ipython3",
   "version": "3.8.13"
  }
 },
 "nbformat": 4,
 "nbformat_minor": 5
}
