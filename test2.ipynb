{
 "cells": [
  {
   "cell_type": "code",
   "execution_count": 27,
   "id": "48cd1627",
   "metadata": {},
   "outputs": [],
   "source": [
    "%matplotlib inline\n",
    "import torch\n",
    "import torchvision\n",
    "from torch.utils import data\n",
    "from torchvision import transforms\n",
    "from matplotlib import pyplot as plt"
   ]
  },
  {
   "cell_type": "code",
   "execution_count": 28,
   "id": "9caae5f0",
   "metadata": {},
   "outputs": [],
   "source": [
    "trans = transforms.ToTensor()\n",
    "train_data = torchvision.datasets.FashionMNIST(\n",
    "    root=\"../data\", train=True, transform=trans, download=True)\n",
    "test_data = torchvision.datasets.FashionMNIST(\n",
    "    root=\"../data\", train=False, transform=trans, download=True)"
   ]
  },
  {
   "cell_type": "code",
   "execution_count": 29,
   "id": "ffa7e3e4",
   "metadata": {},
   "outputs": [],
   "source": [
    "train_iter = data.DataLoader(train_data, batch_size=100, shuffle=True,\n",
    "                             num_workers=4)\n",
    "test_iter = data.DataLoader(test_data, batch_size=100, shuffle=True,\n",
    "                            num_workers=4)"
   ]
  },
  {
   "cell_type": "code",
   "execution_count": 30,
   "id": "660c31a4",
   "metadata": {},
   "outputs": [],
   "source": [
    "from torch import nn"
   ]
  },
  {
   "cell_type": "code",
   "execution_count": 31,
   "id": "13c173e1",
   "metadata": {},
   "outputs": [],
   "source": [
    "sequence_length = 28\n",
    "input_size = 28\n",
    "hidden_size = 128\n",
    "num_classes = 10\n",
    "batch_size = 100\n",
    "num_epochs = 10\n",
    "learning_rate = 0.01"
   ]
  },
  {
   "cell_type": "code",
   "execution_count": 32,
   "id": "c7abacec",
   "metadata": {},
   "outputs": [],
   "source": [
    "def softmax(X):\n",
    "    X_exp = torch.exp(X)\n",
    "    partition = X_exp.sum(1, keepdim=True)\n",
    "    return X_exp / partition"
   ]
  },
  {
   "cell_type": "code",
   "execution_count": 33,
   "id": "8fefbacb",
   "metadata": {},
   "outputs": [],
   "source": [
    "class my_rnn(nn.Module):\n",
    "        def __init__(self,input_size, hidden_size, batch_size, num_outputs):\n",
    "            super(my_rnn,self).__init__()\n",
    "            self.hidden_size = hidden_size\n",
    "            self.U = nn.Linear(input_size, hidden_size)\n",
    "            self.W = nn.Linear(hidden_size, hidden_size)\n",
    "            self.V = nn.Linear(hidden_size, num_outputs)\n",
    "        def forward(self,X):\n",
    "            X = X.reshape(-1, X.size(2),X.size(3))\n",
    "            sequence_len = X.size(1)\n",
    "            A = torch.rand(X.size(0), self.hidden_size)\n",
    "            for i in range(sequence_len):\n",
    "                input1 = X[:, i, :]\n",
    "                input1 = self.U(input1)\n",
    "                input2 = self.W(A)\n",
    "                A = torch.relu(input1 + input2)\n",
    "            return self.V(A)"
   ]
  },
  {
   "cell_type": "code",
   "execution_count": 34,
   "id": "616b873d",
   "metadata": {},
   "outputs": [
    {
     "name": "stdout",
     "output_type": "stream",
     "text": [
      "my_rnn(\n",
      "  (U): Linear(in_features=28, out_features=128, bias=True)\n",
      "  (W): Linear(in_features=128, out_features=128, bias=True)\n",
      "  (V): Linear(in_features=128, out_features=10, bias=True)\n",
      ")\n"
     ]
    }
   ],
   "source": [
    "model = my_rnn(input_size, hidden_size, batch_size, num_classes)\n",
    "print(model)"
   ]
  },
  {
   "cell_type": "code",
   "execution_count": 35,
   "id": "566c4d3f",
   "metadata": {},
   "outputs": [],
   "source": [
    "def cross_entropy(y_hat, y):\n",
    "    return - torch.log(y_hat[range(len(y_hat)), y])"
   ]
  },
  {
   "cell_type": "code",
   "execution_count": 36,
   "id": "7255d009",
   "metadata": {},
   "outputs": [
    {
     "data": {
      "text/plain": [
       "CrossEntropyLoss()"
      ]
     },
     "execution_count": 36,
     "metadata": {},
     "output_type": "execute_result"
    }
   ],
   "source": [
    "loss_func = nn.CrossEntropyLoss()\n",
    "loss_func"
   ]
  },
  {
   "cell_type": "code",
   "execution_count": 37,
   "id": "0c2114c7",
   "metadata": {},
   "outputs": [
    {
     "data": {
      "text/plain": [
       "Adam (\n",
       "Parameter Group 0\n",
       "    amsgrad: False\n",
       "    betas: (0.9, 0.999)\n",
       "    capturable: False\n",
       "    differentiable: False\n",
       "    eps: 1e-08\n",
       "    foreach: None\n",
       "    fused: None\n",
       "    lr: 0.01\n",
       "    maximize: False\n",
       "    weight_decay: 0\n",
       ")"
      ]
     },
     "execution_count": 37,
     "metadata": {},
     "output_type": "execute_result"
    }
   ],
   "source": [
    "from torch import optim\n",
    "optimizer = optim.Adam(model.parameters(), lr = 0.01)   \n",
    "optimizer"
   ]
  },
  {
   "cell_type": "code",
   "execution_count": 38,
   "id": "097dba0d",
   "metadata": {},
   "outputs": [
    {
     "name": "stdout",
     "output_type": "stream",
     "text": [
      "Epoch [1/10], Step [100/600], Loss: 1.6126\n",
      "Epoch [1/10], Step [200/600], Loss: 1.2543\n",
      "Epoch [1/10], Step [300/600], Loss: 1.1088\n",
      "Epoch [1/10], Step [400/600], Loss: 0.9630\n",
      "Epoch [1/10], Step [500/600], Loss: 0.9449\n",
      "Epoch [1/10], Step [600/600], Loss: 0.7450\n",
      "Epoch [2/10], Step [100/600], Loss: 0.9621\n",
      "Epoch [2/10], Step [200/600], Loss: 0.8912\n",
      "Epoch [2/10], Step [300/600], Loss: 0.6317\n",
      "Epoch [2/10], Step [400/600], Loss: 0.6515\n",
      "Epoch [2/10], Step [500/600], Loss: 0.8456\n",
      "Epoch [2/10], Step [600/600], Loss: 0.6492\n",
      "Epoch [3/10], Step [100/600], Loss: 0.7023\n",
      "Epoch [3/10], Step [200/600], Loss: 0.7780\n",
      "Epoch [3/10], Step [300/600], Loss: 0.8708\n",
      "Epoch [3/10], Step [400/600], Loss: 0.7955\n",
      "Epoch [3/10], Step [500/600], Loss: 0.5306\n",
      "Epoch [3/10], Step [600/600], Loss: 0.6266\n",
      "Epoch [4/10], Step [100/600], Loss: 0.6101\n",
      "Epoch [4/10], Step [200/600], Loss: 0.7150\n",
      "Epoch [4/10], Step [300/600], Loss: 0.5641\n",
      "Epoch [4/10], Step [400/600], Loss: 0.5110\n",
      "Epoch [4/10], Step [500/600], Loss: 0.6302\n",
      "Epoch [4/10], Step [600/600], Loss: 0.5171\n",
      "Epoch [5/10], Step [100/600], Loss: 0.5625\n",
      "Epoch [5/10], Step [200/600], Loss: 0.6922\n",
      "Epoch [5/10], Step [300/600], Loss: 0.6328\n",
      "Epoch [5/10], Step [400/600], Loss: 0.8557\n",
      "Epoch [5/10], Step [500/600], Loss: 0.6366\n",
      "Epoch [5/10], Step [600/600], Loss: 0.6308\n",
      "Epoch [6/10], Step [100/600], Loss: 0.5714\n",
      "Epoch [6/10], Step [200/600], Loss: 0.6669\n",
      "Epoch [6/10], Step [300/600], Loss: 0.6192\n",
      "Epoch [6/10], Step [400/600], Loss: 0.4695\n",
      "Epoch [6/10], Step [500/600], Loss: 0.6238\n",
      "Epoch [6/10], Step [600/600], Loss: 0.5100\n",
      "Epoch [7/10], Step [100/600], Loss: 0.4161\n",
      "Epoch [7/10], Step [200/600], Loss: 0.5670\n",
      "Epoch [7/10], Step [300/600], Loss: 0.6785\n",
      "Epoch [7/10], Step [400/600], Loss: 0.6362\n",
      "Epoch [7/10], Step [500/600], Loss: 0.9431\n",
      "Epoch [7/10], Step [600/600], Loss: 0.4769\n",
      "Epoch [8/10], Step [100/600], Loss: 0.7571\n",
      "Epoch [8/10], Step [200/600], Loss: 0.5395\n",
      "Epoch [8/10], Step [300/600], Loss: 0.8624\n",
      "Epoch [8/10], Step [400/600], Loss: 0.6399\n",
      "Epoch [8/10], Step [500/600], Loss: 0.8115\n",
      "Epoch [8/10], Step [600/600], Loss: 0.6512\n",
      "Epoch [9/10], Step [100/600], Loss: 0.6995\n",
      "Epoch [9/10], Step [200/600], Loss: 0.5083\n",
      "Epoch [9/10], Step [300/600], Loss: 0.5318\n",
      "Epoch [9/10], Step [400/600], Loss: 0.6651\n",
      "Epoch [9/10], Step [500/600], Loss: 0.4378\n",
      "Epoch [9/10], Step [600/600], Loss: 0.5315\n",
      "Epoch [10/10], Step [100/600], Loss: 0.6017\n",
      "Epoch [10/10], Step [200/600], Loss: 0.6938\n",
      "Epoch [10/10], Step [300/600], Loss: 0.8401\n",
      "Epoch [10/10], Step [400/600], Loss: 0.6346\n",
      "Epoch [10/10], Step [500/600], Loss: 0.6613\n",
      "Epoch [10/10], Step [600/600], Loss: 0.6977\n"
     ]
    }
   ],
   "source": [
    "def train(num_epochs, model):\n",
    "        \n",
    "    # Train the model\n",
    "    total_step = 600 \n",
    "    for epoch in range(num_epochs):\n",
    "        for i, (images,labels) in enumerate(train_iter):\n",
    "            \n",
    "            # Forward pass\n",
    "            outputs = model(images)\n",
    "            loss = loss_func(outputs, labels)\n",
    "            # Backward and optimize\n",
    "            optimizer.zero_grad()\n",
    "            loss.backward()\n",
    "            optimizer.step()\n",
    "            \n",
    "            if (i+1) % 100 == 0:\n",
    "                print ('Epoch [{}/{}], Step [{}/{}], Loss: {:.4f}' \n",
    "                       .format(epoch + 1, num_epochs, i + 1, total_step, loss.mean()))\n",
    "                pass\n",
    "train(num_epochs, model)"
   ]
  },
  {
   "cell_type": "markdown",
   "id": "57740b17",
   "metadata": {},
   "source": [
    "# 随着训练轮数增加，损失在0.4到0.9振荡"
   ]
  },
  {
   "cell_type": "code",
   "execution_count": 40,
   "id": "f86503fe",
   "metadata": {},
   "outputs": [
    {
     "name": "stdout",
     "output_type": "stream",
     "text": [
      "Test Accuracy of the model on the 10000 test images: 77.22 %\n"
     ]
    }
   ],
   "source": [
    "model.eval()\n",
    "with torch.no_grad():\n",
    "    correct = 0\n",
    "    total = 0\n",
    "    for images, labels in test_iter:\n",
    "        outputs = model(images)\n",
    "        _, predicted = torch.max(outputs.data, 1)\n",
    "        total = total + labels.size(0)\n",
    "        correct = correct + (predicted == labels).sum().item()\n",
    "print('Test Accuracy of the model on the 10000 test images: {} %'.format(100 * correct / total))"
   ]
  },
  {
   "cell_type": "code",
   "execution_count": null,
   "id": "1ea79c3f",
   "metadata": {},
   "outputs": [],
   "source": []
  }
 ],
 "metadata": {
  "kernelspec": {
   "display_name": "Python [conda env:torch] *",
   "language": "python",
   "name": "conda-env-torch-py"
  },
  "language_info": {
   "codemirror_mode": {
    "name": "ipython",
    "version": 3
   },
   "file_extension": ".py",
   "mimetype": "text/x-python",
   "name": "python",
   "nbconvert_exporter": "python",
   "pygments_lexer": "ipython3",
   "version": "3.8.13"
  }
 },
 "nbformat": 4,
 "nbformat_minor": 5
}
