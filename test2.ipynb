{
 "cells": [
  {
   "cell_type": "code",
   "execution_count": 2,
   "id": "48cd1627",
   "metadata": {},
   "outputs": [],
   "source": [
    "%matplotlib inline\n",
    "import torch\n",
    "import torchvision\n",
    "from torch.utils import data\n",
    "from torchvision import transforms\n",
    "from matplotlib import pyplot as plt"
   ]
  },
  {
   "cell_type": "code",
   "execution_count": 3,
   "id": "9caae5f0",
   "metadata": {},
   "outputs": [],
   "source": [
    "trans = transforms.ToTensor()\n",
    "train_data = torchvision.datasets.FashionMNIST(\n",
    "    root=\"../data\", train=True, transform=trans, download=True)\n",
    "test_data = torchvision.datasets.FashionMNIST(\n",
    "    root=\"../data\", train=False, transform=trans, download=True)"
   ]
  },
  {
   "cell_type": "code",
   "execution_count": 4,
   "id": "ffa7e3e4",
   "metadata": {},
   "outputs": [],
   "source": [
    "train_iter = data.DataLoader(train_data, batch_size=100, shuffle=True,\n",
    "                             num_workers=4)\n",
    "test_iter = data.DataLoader(test_data, batch_size=100, shuffle=True,\n",
    "                            num_workers=4)"
   ]
  },
  {
   "cell_type": "code",
   "execution_count": 5,
   "id": "660c31a4",
   "metadata": {},
   "outputs": [],
   "source": [
    "from torch import nn"
   ]
  },
  {
   "cell_type": "code",
   "execution_count": 6,
   "id": "13c173e1",
   "metadata": {},
   "outputs": [],
   "source": [
    "sequence_length = 28\n",
    "input_size = 28\n",
    "hidden_size = 128\n",
    "num_classes = 10\n",
    "batch_size = 100\n",
    "num_epochs = 5\n",
    "learning_rate = 0.01"
   ]
  },
  {
   "cell_type": "code",
   "execution_count": 22,
   "id": "8fefbacb",
   "metadata": {},
   "outputs": [],
   "source": [
    "class my_rnn(nn.Module):\n",
    "        def __init__(self,input_size, hidden_size, batch_size, num_outputs):\n",
    "            super(my_rnn,self).__init__()\n",
    "            self.hidden_size = hidden_size\n",
    "            self.U = nn.Linear(input_size, hidden_size)\n",
    "            self.W = nn.Linear(hidden_size, hidden_size)\n",
    "            self.V = nn.Linear(hidden_size, num_outputs)\n",
    "        def forward(self,X):\n",
    "            X = X.reshape(-1, X.size(2),X.size(3))\n",
    "            sequence_len = X.size(1)\n",
    "            A = torch.rand(X.size(0), self.hidden_size)\n",
    "            for i in range(sequence_len):\n",
    "                input1 = X[:, i, :]\n",
    "                input1 = self.U(input1)\n",
    "                input2 = self.W(A)\n",
    "                A = torch.relu(input1 + input2)\n",
    "            return self.V(A)"
   ]
  },
  {
   "cell_type": "code",
   "execution_count": 23,
   "id": "616b873d",
   "metadata": {},
   "outputs": [
    {
     "name": "stdout",
     "output_type": "stream",
     "text": [
      "my_rnn(\n",
      "  (U): Linear(in_features=28, out_features=128, bias=True)\n",
      "  (W): Linear(in_features=128, out_features=128, bias=True)\n",
      "  (V): Linear(in_features=128, out_features=10, bias=True)\n",
      ")\n"
     ]
    }
   ],
   "source": [
    "model = my_rnn(input_size, hidden_size, batch_size, num_classes)\n",
    "print(model)"
   ]
  },
  {
   "cell_type": "code",
   "execution_count": 24,
   "id": "7255d009",
   "metadata": {},
   "outputs": [
    {
     "data": {
      "text/plain": [
       "CrossEntropyLoss()"
      ]
     },
     "execution_count": 24,
     "metadata": {},
     "output_type": "execute_result"
    }
   ],
   "source": [
    "loss_func = nn.CrossEntropyLoss()\n",
    "loss_func"
   ]
  },
  {
   "cell_type": "code",
   "execution_count": 25,
   "id": "0c2114c7",
   "metadata": {},
   "outputs": [
    {
     "data": {
      "text/plain": [
       "Adam (\n",
       "Parameter Group 0\n",
       "    amsgrad: False\n",
       "    betas: (0.9, 0.999)\n",
       "    capturable: False\n",
       "    differentiable: False\n",
       "    eps: 1e-08\n",
       "    foreach: None\n",
       "    fused: None\n",
       "    lr: 0.01\n",
       "    maximize: False\n",
       "    weight_decay: 0\n",
       ")"
      ]
     },
     "execution_count": 25,
     "metadata": {},
     "output_type": "execute_result"
    }
   ],
   "source": [
    "from torch import optim\n",
    "optimizer = optim.Adam(model.parameters(), lr = 0.01)   \n",
    "optimizer"
   ]
  },
  {
   "cell_type": "code",
   "execution_count": 26,
   "id": "62fbeeaf",
   "metadata": {},
   "outputs": [],
   "source": [
    "def accuracy(y_hat, y):  #@save\n",
    "    \"\"\"计算预测正确的数量\"\"\"\n",
    "    if len(y_hat.shape) > 1 and y_hat.shape[1] > 1:\n",
    "        y_hat = y_hat.argmax(axis=1)\n",
    "    cmp = y_hat.type(y.dtype) == y\n",
    "    return float(cmp.type(y.dtype).sum())"
   ]
  },
  {
   "cell_type": "code",
   "execution_count": 27,
   "id": "097dba0d",
   "metadata": {},
   "outputs": [],
   "source": [
    "def train(num_epochs, net):\n",
    "    Accuracy=[]\n",
    "    total_step = 600 \n",
    "    for epoch in range(num_epochs):\n",
    "        a=0\n",
    "        for i, (images,labels) in enumerate(train_iter):\n",
    "            \n",
    "            # Forward pass\n",
    "            outputs = net(images)\n",
    "            loss = loss_func(outputs, labels)\n",
    "            a += accuracy(outputs, labels)\n",
    "            # Backward and optimize\n",
    "            optimizer.zero_grad()\n",
    "            loss.backward()\n",
    "            optimizer.step()\n",
    "            \n",
    "            if (i+1) % 100 == 0:\n",
    "                print ('Epoch [{}/{}], Step [{}/{}], Loss: {:.4f}'\n",
    "                       .format(epoch + 1, num_epochs, i + 1, total_step, loss.item()))\n",
    "                \n",
    "        Accuracy.append(a/(600*batch_size))\n",
    "    plt.plot(range(1,num_epochs+1), Accuracy, label = 'accuracy')\n",
    "    plt.xlabel('num epochs')\n",
    "    plt.legend()\n",
    "    plt.show()"
   ]
  },
  {
   "cell_type": "code",
   "execution_count": 28,
   "id": "a295e421",
   "metadata": {},
   "outputs": [
    {
     "name": "stdout",
     "output_type": "stream",
     "text": [
      "Epoch [1/5], Step [100/600], Loss: 0.9902\n",
      "Epoch [1/5], Step [200/600], Loss: 0.9508\n",
      "Epoch [1/5], Step [300/600], Loss: 0.8661\n",
      "Epoch [1/5], Step [400/600], Loss: 0.7592\n",
      "Epoch [1/5], Step [500/600], Loss: 0.9298\n",
      "Epoch [1/5], Step [600/600], Loss: 0.6756\n",
      "Epoch [2/5], Step [100/600], Loss: 0.7922\n",
      "Epoch [2/5], Step [200/600], Loss: 0.6786\n",
      "Epoch [2/5], Step [300/600], Loss: 0.6754\n",
      "Epoch [2/5], Step [400/600], Loss: 0.8547\n",
      "Epoch [2/5], Step [500/600], Loss: 0.9656\n",
      "Epoch [2/5], Step [600/600], Loss: 1.8059\n",
      "Epoch [3/5], Step [100/600], Loss: 1.0233\n",
      "Epoch [3/5], Step [200/600], Loss: 1.4488\n",
      "Epoch [3/5], Step [300/600], Loss: 0.9475\n",
      "Epoch [3/5], Step [400/600], Loss: 0.8454\n",
      "Epoch [3/5], Step [500/600], Loss: 1.0211\n",
      "Epoch [3/5], Step [600/600], Loss: 0.9502\n",
      "Epoch [4/5], Step [100/600], Loss: 0.9831\n",
      "Epoch [4/5], Step [200/600], Loss: 0.8750\n",
      "Epoch [4/5], Step [300/600], Loss: 0.8012\n",
      "Epoch [4/5], Step [400/600], Loss: 0.7977\n",
      "Epoch [4/5], Step [500/600], Loss: 0.8603\n",
      "Epoch [4/5], Step [600/600], Loss: 0.7909\n",
      "Epoch [5/5], Step [100/600], Loss: 0.6830\n",
      "Epoch [5/5], Step [200/600], Loss: 248.6762\n",
      "Epoch [5/5], Step [300/600], Loss: 26.0781\n",
      "Epoch [5/5], Step [400/600], Loss: 6.2937\n",
      "Epoch [5/5], Step [500/600], Loss: 3.7349\n",
      "Epoch [5/5], Step [600/600], Loss: 3.5740\n"
     ]
    },
    {
     "data": {
      "image/png": "[encoded data removed]",
      "text/plain": [
       "<Figure size 640x480 with 1 Axes>"
      ]
     },
     "metadata": {},
     "output_type": "display_data"
    }
   ],
   "source": [
    "train(num_epochs, model)"
   ]
  },
  {
   "cell_type": "markdown",
   "id": "57740b17",
   "metadata": {},
   "source": [
    "# 经过很多次的测试，发现RNN在图片识别上随着训练轮数增加，性能不太稳定\n",
    "\n",
    "![3，4轮骤降，并且在振荡](5_epochs.png)\n",
    "<div style=\"text-align:center\">\n",
    " 3，4轮骤降，并且在振荡\n",
    "</div>\n",
    "\n",
    "![第3轮骤降](5_epochs2.png)\n",
    "\n",
    "<div style=\"text-align:center\">\n",
    "第3轮骤降\n",
    "</div>\n",
    "\n",
    "![从第3轮开始下降](6_epochs.png)\n",
    "\n",
    "<div style=\"text-align:center\">\n",
    "从第3轮开始下降\n",
    "</div>\n",
    "\n",
    "# 总体上训练2轮时性能在一个比较高的区间内，故选择训练2轮的模型测试"
   ]
  },
  {
   "cell_type": "code",
   "execution_count": 36,
   "id": "64b364ab",
   "metadata": {},
   "outputs": [
    {
     "name": "stdout",
     "output_type": "stream",
     "text": [
      "Epoch [1/2], Step [100/600], Loss: 1.0956\n",
      "Epoch [1/2], Step [200/600], Loss: 0.8235\n",
      "Epoch [1/2], Step [300/600], Loss: 0.7624\n",
      "Epoch [1/2], Step [400/600], Loss: 0.7757\n",
      "Epoch [1/2], Step [500/600], Loss: 0.7045\n",
      "Epoch [1/2], Step [600/600], Loss: 0.7166\n",
      "Epoch [2/2], Step [100/600], Loss: 0.8390\n",
      "Epoch [2/2], Step [200/600], Loss: 0.7382\n",
      "Epoch [2/2], Step [300/600], Loss: 0.6890\n",
      "Epoch [2/2], Step [400/600], Loss: 0.5754\n",
      "Epoch [2/2], Step [500/600], Loss: 0.6438\n",
      "Epoch [2/2], Step [600/600], Loss: 0.6068\n"
     ]
    },
    {
     "data": {
      "image/png": "[encoded data removed]",
      "text/plain": [
       "<Figure size 640x480 with 1 Axes>"
      ]
     },
     "metadata": {},
     "output_type": "display_data"
    }
   ],
   "source": [
    "best_epoch = 2\n",
    "best_model = my_rnn(input_size, hidden_size, batch_size, num_classes)\n",
    "optimizer = optim.Adam(best_model.parameters(), lr = 0.01)\n",
    "train(best_epoch, best_model)"
   ]
  },
  {
   "cell_type": "code",
   "execution_count": 37,
   "id": "f86503fe",
   "metadata": {},
   "outputs": [
    {
     "name": "stdout",
     "output_type": "stream",
     "text": [
      "Test Accuracy of the model on the 10000 test images: 73.79 %\n"
     ]
    }
   ],
   "source": [
    "best_model.eval()\n",
    "with torch.no_grad():\n",
    "    correct = 0\n",
    "    total = 0\n",
    "    for images, labels in test_iter:\n",
    "        outputs = best_model(images)\n",
    "        _, predicted = torch.max(outputs.data, 1)\n",
    "        total = total + labels.size(0)\n",
    "        correct = correct + (predicted == labels).sum().item()\n",
    "print('Test Accuracy of the model on the 10000 test images: {} %'.format(100 * correct / total))"
   ]
  }
 ],
 "metadata": {
  "kernelspec": {
   "display_name": "Python [conda env:torch] *",
   "language": "python",
   "name": "conda-env-torch-py"
  },
  "language_info": {
   "codemirror_mode": {
    "name": "ipython",
    "version": 3
   },
   "file_extension": ".py",
   "mimetype": "text/x-python",
   "name": "python",
   "nbconvert_exporter": "python",
   "pygments_lexer": "ipython3",
   "version": "3.8.13"
  }
 },
 "nbformat": 4,
 "nbformat_minor": 5
}
