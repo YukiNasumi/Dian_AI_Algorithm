{
 "cells": [
  {
   "cell_type": "code",
   "execution_count": 146,
   "id": "45b6b155",
   "metadata": {},
   "outputs": [],
   "source": [
    "%matplotlib inline\n",
    "import torch\n",
    "import torchvision\n",
    "from torch.utils import data\n",
    "from torchvision import transforms\n",
    "from matplotlib import pyplot as plt"
   ]
  },
  {
   "cell_type": "markdown",
   "id": "edfc759b",
   "metadata": {},
   "source": [
    "# 导入数据"
   ]
  },
  {
   "cell_type": "code",
   "execution_count": 147,
   "id": "82432e40",
   "metadata": {},
   "outputs": [],
   "source": [
    "trans = transforms.ToTensor()\n",
    "train_data = torchvision.datasets.FashionMNIST(\n",
    "    root=\"../data\", train=True, transform=trans, download=True)\n",
    "test_data = torchvision.datasets.FashionMNIST(\n",
    "    root=\"../data\", train=False, transform=trans, download=True)"
   ]
  },
  {
   "cell_type": "code",
   "execution_count": 148,
   "id": "7d390f1b",
   "metadata": {},
   "outputs": [],
   "source": [
    "sequence_length = 28\n",
    "# 序列长度\n",
    "input_size = 28\n",
    "# 每个序列的输入数\n",
    "hidden_size = 128\n",
    "num_classes = 10\n",
    "batch_size = 100\n",
    "num_epochs = 10\n",
    "learning_rate = 0.01"
   ]
  },
  {
   "cell_type": "code",
   "execution_count": 149,
   "id": "dbcad102",
   "metadata": {},
   "outputs": [],
   "source": [
    "train_iter = data.DataLoader(train_data, batch_size, shuffle=True,\n",
    "                             num_workers=4)\n",
    "test_iter = data.DataLoader(test_data, batch_size, shuffle=True,\n",
    "                            num_workers=4)"
   ]
  },
  {
   "cell_type": "code",
   "execution_count": 150,
   "id": "fc7be16d",
   "metadata": {},
   "outputs": [
    {
     "name": "stdout",
     "output_type": "stream",
     "text": [
      "torch.Size([100, 1, 28, 28])\n"
     ]
    }
   ],
   "source": [
    "for X, y in train_iter:\n",
    "    print(X.shape)\n",
    "    break"
   ]
  },
  {
   "cell_type": "code",
   "execution_count": 151,
   "id": "484df219",
   "metadata": {},
   "outputs": [],
   "source": [
    "def get_label(i):  #@save\n",
    "    \"\"\"返回Fashion-MNIST数据集的文本标签\"\"\"\n",
    "    text_labels = ['t-shirt', 'trouser', 'pullover', 'dress', 'coat',\n",
    "                   'sandal', 'shirt', 'sneaker', 'bag', 'ankle boot']\n",
    "    return text_labels[i]"
   ]
  },
  {
   "cell_type": "code",
   "execution_count": 152,
   "id": "ba8d7ced",
   "metadata": {},
   "outputs": [
    {
     "data": {
      "image/png": "[encoded data removed]",
      "text/plain": [
       "<Figure size 640x480 with 1 Axes>"
      ]
     },
     "metadata": {},
     "output_type": "display_data"
    }
   ],
   "source": [
    "plt.imshow(train_data.data[0], cmap='gray')\n",
    "plt.title(get_label(train_data.targets[0]))\n",
    "plt.show()"
   ]
  },
  {
   "cell_type": "code",
   "execution_count": 153,
   "id": "09f88c22",
   "metadata": {},
   "outputs": [],
   "source": [
    "def softmax(X):\n",
    "    X_exp = torch.exp(X)\n",
    "    partition = X_exp.sum(1, keepdim=True)\n",
    "    return X_exp / partition"
   ]
  },
  {
   "cell_type": "code",
   "execution_count": 154,
   "id": "f18fdfa1",
   "metadata": {},
   "outputs": [],
   "source": [
    "def cross_entropy(y_hat, y):\n",
    "    return - torch.log(y_hat[range(len(y_hat)), y])"
   ]
  },
  {
   "cell_type": "code",
   "execution_count": 155,
   "id": "37743438",
   "metadata": {},
   "outputs": [],
   "source": [
    "loss_func = cross_entropy"
   ]
  },
  {
   "cell_type": "code",
   "execution_count": 156,
   "id": "21ce8f53",
   "metadata": {},
   "outputs": [],
   "source": [
    "from torch import nn"
   ]
  },
  {
   "cell_type": "code",
   "execution_count": 157,
   "id": "c6d7c622",
   "metadata": {},
   "outputs": [],
   "source": [
    " class my_rnn(nn.Module):\n",
    "        def __init__(self,input_size, hidden_size, batch_size, num_outputs):\n",
    "            super(my_rnn,self).__init__()\n",
    "            self.hidden_size = hidden_size\n",
    "            self.U = nn.Linear(input_size, hidden_size)\n",
    "            self.W = nn.Linear(hidden_size, hidden_size)\n",
    "            self.V = nn.Linear(hidden_size, num_outputs)\n",
    "        def forward(self,X):\n",
    "            X = X.reshape(-1, X.size(2),X.size(3))\n",
    "            sequence_len = X.size(1)\n",
    "            A = torch.rand(X.size(0), self.hidden_size)\n",
    "            for i in range(sequence_len):\n",
    "                input1 = X[:, i, :]\n",
    "                input1 = self.U(input1)\n",
    "                input2 = self.W(A)\n",
    "                A = torch.relu(input1 + input2)\n",
    "            return softmax(self.V(A))\n",
    "                "
   ]
  },
  {
   "cell_type": "code",
   "execution_count": 158,
   "id": "46986ae3",
   "metadata": {},
   "outputs": [],
   "source": [
    "net = my_rnn(input_size, hidden_size, batch_size, num_classes)"
   ]
  },
  {
   "cell_type": "code",
   "execution_count": 159,
   "id": "80f44242",
   "metadata": {},
   "outputs": [],
   "source": [
    "from torch import optim\n",
    "optimizer = optim.Adam(net.parameters(), lr = 0.01)   "
   ]
  },
  {
   "cell_type": "code",
   "execution_count": 160,
   "id": "37422833",
   "metadata": {},
   "outputs": [],
   "source": [
    "class Accumulator:  #@save\n",
    "    \"\"\"在n个变量上累加\"\"\"\n",
    "    def __init__(self, n):\n",
    "        self.data = [0.0] * n\n",
    "\n",
    "    def add(self, *args):\n",
    "        self.data = [a + float(b) for a, b in zip(self.data, args)]\n",
    "\n",
    "    def reset(self):\n",
    "        self.data = [0.0] * len(self.data)\n",
    "\n",
    "    def __getitem__(self, idx):\n",
    "        return self.data[idx]"
   ]
  },
  {
   "cell_type": "code",
   "execution_count": 161,
   "id": "46956186",
   "metadata": {},
   "outputs": [],
   "source": [
    "def accuracy(y_hat, y):  #@save\n",
    "    \"\"\"计算预测正确的数量\"\"\"\n",
    "    if len(y_hat.shape) > 1 and y_hat.shape[1] > 1:\n",
    "        y_hat = y_hat.argmax(axis=1)\n",
    "    cmp = y_hat.type(y.dtype) == y\n",
    "    return float(cmp.type(y.dtype).sum())"
   ]
  },
  {
   "cell_type": "code",
   "execution_count": 162,
   "id": "d7a7b272",
   "metadata": {},
   "outputs": [],
   "source": [
    "import numpy as np\n",
    "\n",
    "\n",
    "def train(num_epoch, model, data_iter):\n",
    "    Accuracy=[]\n",
    "    for epoch in range(num_epoch+1):\n",
    "        for i, (X,y) in enumerate(data_iter):\n",
    "            metric = Accumulator(2)\n",
    "            y_hat = model(X)\n",
    "            loss = loss_func(y_hat,y)\n",
    "            metric.add(accuracy(y_hat,y), batch_size)\n",
    "            \n",
    "            optimizer.zero_grad()\n",
    "            loss.mean().backward()\n",
    "            optimizer.step()\n",
    "            \n",
    "        Accuracy.append(metric[0]/metric[1])\n",
    "    \n",
    "    plt.plot(list(range(num_epoch+1)),Accuracy,label='accuracy')\n",
    "    plt.xlabel = 'epoch'\n",
    "    plt.legend()"
   ]
  },
  {
   "cell_type": "code",
   "execution_count": 163,
   "id": "b73147a8",
   "metadata": {},
   "outputs": [
    {
     "data": {
      "image/png": "[encoded data removed]",
      "text/plain": [
       "<Figure size 640x480 with 1 Axes>"
      ]
     },
     "metadata": {},
     "output_type": "display_data"
    }
   ],
   "source": [
    "train(10, net, train_iter)"
   ]
  },
  {
   "cell_type": "code",
   "execution_count": 164,
   "id": "db353021",
   "metadata": {},
   "outputs": [
    {
     "name": "stdout",
     "output_type": "stream",
     "text": [
      "Test Accuracy of the model on the 10000 test images: 10.0 %\n"
     ]
    }
   ],
   "source": [
    "# Test the model\n",
    "net.eval()\n",
    "with torch.no_grad():\n",
    "    correct = 0\n",
    "    total = 0\n",
    "    for X, y in test_iter:\n",
    "        outputs = net(X)\n",
    "        _, predicted = torch.max(outputs.data, 1)\n",
    "        total = total + y.size(0)\n",
    "        correct = correct + (predicted == y).sum().item()\n",
    "print('Test Accuracy of the model on the 10000 test images: {} %'.format(100 * correct / total))"
   ]
  },
  {
   "cell_type": "code",
   "execution_count": null,
   "id": "1a7cea7f",
   "metadata": {},
   "outputs": [],
   "source": []
  }
 ],
 "metadata": {
  "kernelspec": {
   "display_name": "Python [conda env:torch] *",
   "language": "python",
   "name": "conda-env-torch-py"
  },
  "language_info": {
   "codemirror_mode": {
    "name": "ipython",
    "version": 3
   },
   "file_extension": ".py",
   "mimetype": "text/x-python",
   "name": "python",
   "nbconvert_exporter": "python",
   "pygments_lexer": "ipython3",
   "version": "3.8.13"
  }
 },
 "nbformat": 4,
 "nbformat_minor": 5
}
