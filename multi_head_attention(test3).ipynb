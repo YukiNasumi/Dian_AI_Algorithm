{
 "cells": [
  {
   "cell_type": "code",
   "execution_count": 26,
   "id": "6f80f067",
   "metadata": {},
   "outputs": [],
   "source": [
    "import torch\n",
    "from torch import nn\n",
    "from matplotlib import pyplot as plt"
   ]
  },
  {
   "cell_type": "code",
   "execution_count": 7,
   "id": "91ef9c03",
   "metadata": {},
   "outputs": [
    {
     "data": {
      "text/plain": [
       "tensor([[[0.7528, 0.8536, 0.5633, 0.9941, 0.1558, 0.2721, 0.4401, 0.4514],\n",
       "         [0.3017, 0.2350, 0.4343, 0.5517, 0.3288, 0.4388, 0.2325, 0.1349],\n",
       "         [0.5952, 0.6071, 0.0752, 0.7441, 0.0278, 0.5404, 0.7307, 0.9666],\n",
       "         [0.2400, 0.3430, 0.6861, 0.4971, 0.0558, 0.1271, 0.1321, 0.4013],\n",
       "         [0.6176, 0.1670, 0.0846, 0.4180, 0.6585, 0.7640, 0.2097, 0.0847],\n",
       "         [0.5855, 0.7225, 0.2919, 0.6298, 0.8147, 0.3194, 0.3121, 0.1431],\n",
       "         [0.9406, 0.6665, 0.3215, 0.0135, 0.9781, 0.2643, 0.5602, 0.1463],\n",
       "         [0.5693, 0.1535, 0.2021, 0.7632, 0.8355, 0.4895, 0.8008, 0.1235],\n",
       "         [0.9445, 0.8945, 0.4015, 0.2353, 0.1407, 0.1480, 0.3856, 0.3654],\n",
       "         [0.3680, 0.2438, 0.1298, 0.1814, 0.7778, 0.3533, 0.4496, 0.4691]]])"
      ]
     },
     "execution_count": 7,
     "metadata": {},
     "output_type": "execute_result"
    }
   ],
   "source": [
    "r = 10\n",
    "c = 8\n",
    "embed = 5\n",
    "batch = 1\n",
    "heads = 4\n",
    "matrix = torch.rand(batch, r, c)\n",
    "matrix"
   ]
  },
  {
   "cell_type": "markdown",
   "id": "0d019a07",
   "metadata": {},
   "source": [
    "# 初始化矩阵"
   ]
  },
  {
   "cell_type": "code",
   "execution_count": 20,
   "id": "0e428fda",
   "metadata": {},
   "outputs": [],
   "source": [
    "class multheads(nn.Module):\n",
    "    def __init__(self, batch, r, c, embed, kqs, vs, heads ):\n",
    "        super(multheads, self).__init__()\n",
    "        self.batch = batch\n",
    "        self.r = r\n",
    "        self.c = c\n",
    "        self.embed = embed\n",
    "        self.kqs = kqs\n",
    "        self.vs = vs\n",
    "        self.heads = heads\n",
    "        self.sum = r * c\n",
    "        self.E = nn.Linear(1, embed)\n",
    "        self.Q = nn.ModuleList([nn.Linear(embed, kqs) for _ in range(heads)])\n",
    "        self.K = nn.ModuleList([nn.Linear(embed, kqs) for _ in range(heads)])\n",
    "        self.V = nn.ModuleList([nn.Linear(embed, vs) for _ in range(heads)])\n",
    "        self.O = nn.Linear(vs*heads, vs)\n",
    "    \n",
    "    \n",
    "    def forward(self, X):\n",
    "        X = X.reshape(batch, self.sum, 1)\n",
    "        E = self.E(X)\n",
    "        outputs = []\n",
    "        \n",
    "        for head in range(self.heads):\n",
    "            Q = self.Q[head](E)\n",
    "            K = self.K[head](E)\n",
    "            V = self.V[head](E)\n",
    "            A = torch.einsum('nqd, nkd -> nqk', [Q, K]) * (self.kqs ** (-0.5))\n",
    "            A = nn.functional.softmax(A, dim = 2)\n",
    "            # 得到注意力权重\n",
    "            O = torch.einsum('nqd, ndk -> nqk', [A, V])\n",
    "            # 得到这个头的输出\n",
    "            outputs.append(O)\n",
    "        \n",
    "        all_out = torch.cat(outputs, dim = 2)\n",
    "        final = self.O(all_out)\n",
    "        return final"
   ]
  },
  {
   "cell_type": "markdown",
   "id": "0172a746",
   "metadata": {},
   "source": [
    "# 定义多头模型"
   ]
  },
  {
   "cell_type": "code",
   "execution_count": 21,
   "id": "0b3bc336",
   "metadata": {},
   "outputs": [],
   "source": [
    "my_mul = multheads(batch, r, c, embed, r*c, 1, heads)"
   ]
  },
  {
   "cell_type": "code",
   "execution_count": 22,
   "id": "3fbb1d52",
   "metadata": {},
   "outputs": [],
   "source": [
    "Out = my_mul(matrix)"
   ]
  },
  {
   "cell_type": "code",
   "execution_count": 23,
   "id": "837dc318",
   "metadata": {},
   "outputs": [
    {
     "data": {
      "text/plain": [
       "torch.Size([1, 80, 1])"
      ]
     },
     "execution_count": 23,
     "metadata": {},
     "output_type": "execute_result"
    }
   ],
   "source": [
    "Out.shape"
   ]
  },
  {
   "cell_type": "code",
   "execution_count": 27,
   "id": "7ad90c0d",
   "metadata": {},
   "outputs": [],
   "source": [
    "def show_heatmaps(matrices, xlabel, ylabel, titles=None, figsize=(2.5, 2.5),\n",
    "                  cmap='Reds'):\n",
    "    \"\"\"显示矩阵热图\"\"\"\n",
    "    num_rows, num_cols = matrices.shape[0], matrices.shape[1]\n",
    "    fig, axes = plt.subplots(num_rows, num_cols, figsize=figsize,\n",
    "                                 sharex=True, sharey=True, squeeze=False)\n",
    "    for i, (row_axes, row_matrices) in enumerate(zip(axes, matrices)):\n",
    "        for j, (ax, matrix) in enumerate(zip(row_axes, row_matrices)):\n",
    "            pcm = ax.imshow(matrix.detach().numpy(), cmap=cmap)\n",
    "            if i == num_rows - 1:\n",
    "                ax.set_xlabel(xlabel)\n",
    "            if j == 0:\n",
    "                ax.set_ylabel(ylabel)\n",
    "            if titles:\n",
    "                ax.set_title(titles[j])\n",
    "            \n",
    "    fig.colorbar(pcm, ax=axes, shrink=0.6)"
   ]
  },
  {
   "cell_type": "code",
   "execution_count": 29,
   "id": "e77af67c",
   "metadata": {},
   "outputs": [
    {
     "data": {
      "image/png": "[encoded data removed]",
      "text/plain": [
       "<Figure size 250x250 with 2 Axes>"
      ]
     },
     "metadata": {},
     "output_type": "display_data"
    }
   ],
   "source": [
    "show_heatmaps(Out.reshape(1, 1, r, c), xlabel='r', ylabel='c')"
   ]
  },
  {
   "cell_type": "markdown",
   "id": "0477c9ff",
   "metadata": {},
   "source": [
    "# 现在我们定义一个多组模型"
   ]
  },
  {
   "cell_type": "code",
   "execution_count": 59,
   "id": "c9c6af2f",
   "metadata": {},
   "outputs": [],
   "source": [
    "class multgroups(nn.Module):\n",
    "    def __init__(self, batch, r, c, embed, kqs, vs, groups):\n",
    "        super(multgroups, self).__init__()\n",
    "        self.batch = batch\n",
    "        self.r = r\n",
    "        self.c = c\n",
    "        self.embed = embed\n",
    "        self.kqs = kqs\n",
    "        self.vs = vs\n",
    "        self.groups = groups\n",
    "        self.sum = r * c\n",
    "        self.E = nn.Linear(1, embed)\n",
    "        self.Q = nn.ModuleList([nn.Linear(embed, kqs) for _ in range(groups)])\n",
    "        self.K = nn.ModuleList([nn.Linear(embed, kqs) for _ in range(groups)])\n",
    "        self.V = nn.ModuleList([nn.Linear(embed, vs) for _ in range(groups)])\n",
    "        self.O = nn.Linear(vs*, vs)\n",
    "    \n",
    "    \n",
    "    def forward(self, X):\n",
    "        num_members = self.sum / groups\n",
    "        X = X.reshape(batch, self.sum, 1)\n",
    "        E = self.E(X)\n",
    "        \n",
    "        outputs = []\n",
    "        \n",
    "        for group in range(self.groups):\n",
    "            for i in range(int(num_members)):\n",
    "                Q = self.Q[group](E)\n",
    "                K = self.K[group](E)\n",
    "                V = self.V[group](E)\n",
    "                A = torch.einsum('nqd, nkd -> nqk', [Q, K]) * (self.kqs ** (-0.5))\n",
    "                A = nn.functional.softmax(A, dim = 2)\n",
    "                # 得到注意力权重\n",
    "                O = torch.einsum('nqd, ndk -> nqk', [A, V])\n",
    "                # 得到这个头的输出\n",
    "                outputs.append(O)\n",
    "\n",
    "        all_out = torch.cat(outputs, dim = 2)\n",
    "        print(all_out.shape)\n",
    "        final = self.O(all_out)\n",
    "        return final"
   ]
  }
 ],
 "metadata": {
  "kernelspec": {
   "display_name": "Python [conda env:torch] *",
   "language": "python",
   "name": "conda-env-torch-py"
  },
  "language_info": {
   "codemirror_mode": {
    "name": "ipython",
    "version": 3
   },
   "file_extension": ".py",
   "mimetype": "text/x-python",
   "name": "python",
   "nbconvert_exporter": "python",
   "pygments_lexer": "ipython3",
   "version": "3.8.13"
  }
 },
 "nbformat": 4,
 "nbformat_minor": 5
}
